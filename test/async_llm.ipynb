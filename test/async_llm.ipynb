{
 "cells": [
  {
   "cell_type": "markdown",
   "metadata": {},
   "source": [
    "# 大模型并发调用"
   ]
  },
  {
   "cell_type": "markdown",
   "metadata": {},
   "source": [
    "## 文本生成\n",
    "并行/串行调用10次大模型，对比调用时间"
   ]
  },
  {
   "cell_type": "code",
   "execution_count": null,
   "metadata": {},
   "outputs": [],
   "source": [
    "# 在notebook环境中运行，需要更改系统路径\n",
    "import sys\n",
    "import os\n",
    "project_root = os.path.abspath(os.path.join(os.getcwd(), '..'))\n",
    "if project_root not in sys.path:\n",
    "    sys.path.append(project_root)"
   ]
  },
  {
   "cell_type": "code",
   "execution_count": 11,
   "metadata": {},
   "outputs": [],
   "source": [
    "import asyncio\n",
    "import time\n",
    "\n",
    "from langchain.chains.llm import LLMChain\n",
    "from langchain_core.prompts import PromptTemplate\n",
    "\n",
    "from src.llm.llm_factory import LLMFactory"
   ]
  },
  {
   "cell_type": "code",
   "execution_count": 12,
   "metadata": {},
   "outputs": [],
   "source": [
    "prompt_template = \"给我讲个50字以内的笑话\"\n",
    "prompt = PromptTemplate(\n",
    "    input_variables=[],\n",
    "    template=prompt_template\n",
    ")\n",
    "\n",
    "def generate_serially():\n",
    "    llm = LLMFactory.get_openai_factory().get_chat_llm_3()\n",
    "    chain = LLMChain(\n",
    "        llm=llm,\n",
    "        prompt=prompt,\n",
    "    )\n",
    "    for _ in range(10):\n",
    "        content = chain.invoke(input={})['text']\n",
    "        print(content)\n",
    "\n",
    "\n",
    "async def async_generate(chain):\n",
    "    resp = await chain.arun(input={}) # 最好该用ainvoke\n",
    "    print(resp)\n",
    "\n",
    "\n",
    "async def generate_concurrently():\n",
    "    llm = LLMFactory.get_openai_factory().get_chat_llm_3()\n",
    "    chain = LLMChain(\n",
    "        llm=llm,\n",
    "        prompt=prompt,\n",
    "    )\n",
    "    tasks = [async_generate(chain) for _ in range(10)]\n",
    "    await asyncio.gather(*tasks)"
   ]
  },
  {
   "cell_type": "markdown",
   "metadata": {},
   "source": [
    "并行"
   ]
  },
  {
   "cell_type": "code",
   "execution_count": 18,
   "metadata": {},
   "outputs": [
    {
     "name": "stdout",
     "output_type": "stream",
     "text": [
      "为什么猫咪不喜欢下雨天？因为它们怕变成“湿猫”！\n",
      "为什么学校的操场是圆的？\n",
      "因为老师说：“让学生四处跑！”\n",
      "为什么猫咪不喜欢下雨天？\n",
      "因为它们怕自己会变成“湿猫”！\n",
      "为什么太阳总是这么生气？因为它总是起床都没吃早饭就开始工作了！\n",
      "为什么猫咪喜欢在键盘上踩来踩去？因为它们想成为“鼠标”专家！\n",
      "为什么猫咪不喜欢打扑克？\n",
      "因为它们总是被抓住！\n",
      "为什么猫咪不喜欢下雨天？\n",
      "因为它们怕自己会变成“湿猫”！😸\n",
      "为什么小明的作业总是写不完呢？因为他总是在作业本上写着写着就睡着了。\n",
      "为什么猫咪喜欢玩纸箱？\n",
      "因为它们觉得纸箱是“盒”乐无穷！\n",
      "为什么学校的操场很干净？因为同学们都把垃圾扔到了教室里。\n",
      "\u001b[1mConcurrent executed in 4.35 seconds.\u001b[0m\n"
     ]
    }
   ],
   "source": [
    "async def main():\n",
    "    s = time.perf_counter()\n",
    "    await generate_concurrently()\n",
    "    elapsed = time.perf_counter() - s\n",
    "    print(\"\\033[1m\" + f\"Concurrent executed in {elapsed:0.2f} seconds.\" + \"\\033[0m\")\n",
    "\n",
    "await main() # 在.py文件中，改为asyncio.run(main())"
   ]
  },
  {
   "cell_type": "markdown",
   "metadata": {},
   "source": [
    "串行"
   ]
  },
  {
   "cell_type": "code",
   "execution_count": 20,
   "metadata": {},
   "outputs": [
    {
     "name": "stdout",
     "output_type": "stream",
     "text": [
      "为什么学校的操场是圆的？因为校长说：学生都是圆滚滚的，操场也要跟着他们一起圆滚滚。\n",
      "为什么月亮喜欢穿新衣服？因为它每个月都要换一次！\n",
      "为什么手机喜欢在夜里响个不停？因为它是“夜猫子”！\n",
      "为什么蘑菇是个好朋友？因为它总是\"菇\"着你！\n",
      "为什么蜜蜂从来不会迟到？因为它们总是在蜜时间到达！\n",
      "为什么小明不敢去参加跳水比赛？\n",
      "\n",
      "因为他怕跳水后会变成小明泡泡！\n",
      "为什么蘑菇是个好朋友？因为它总是“菇”得你开心！\n",
      "为什么猫咪不喜欢下雨天？因为它们怕变成“湿猫”！\n",
      "为什么猫咪喜欢玩扑克牌？因为它们总是抓得住鱼！\n",
      "为什么学校的操场很干净？\n",
      "因为学生们都把垃圾扔到了教室里。\n",
      "\u001b[1mSerial executed in 9.83 seconds.\u001b[0m\n"
     ]
    }
   ],
   "source": [
    "s = time.perf_counter()\n",
    "generate_serially()\n",
    "elapsed = time.perf_counter() - s\n",
    "print(\"\\033[1m\" + f\"Serial executed in {elapsed:0.2f} seconds.\" + \"\\033[0m\")"
   ]
  },
  {
   "cell_type": "markdown",
   "metadata": {},
   "source": [
    "## 图像理解\n",
    "对于同一张图像，并行/串行调用3次，对比调用时间"
   ]
  },
  {
   "cell_type": "code",
   "execution_count": 22,
   "metadata": {},
   "outputs": [],
   "source": [
    "import asyncio\n",
    "import base64\n",
    "from langchain_core.messages import HumanMessage\n",
    "from src.llm.llm_factory import LLMFactory"
   ]
  },
  {
   "cell_type": "code",
   "execution_count": 28,
   "metadata": {},
   "outputs": [],
   "source": [
    "image_path = \"D:\\\\download\\\\case\\\\images\\\\客服数字人直播增强互动性讲解需求描述_7-36.png\"\n",
    "prompt = \"请详细描述图像的内容\"\n",
    "\n",
    "llm = LLMFactory.get_openai_factory().get_gpt4o()\n",
    "\n",
    "def encode_image(image_path):\n",
    "    with open(image_path, \"rb\") as image_file:\n",
    "        return base64.b64encode(image_file.read()).decode(\"utf-8\")\n",
    "        "
   ]
  },
  {
   "cell_type": "markdown",
   "metadata": {},
   "source": [
    "并行"
   ]
  },
  {
   "cell_type": "code",
   "execution_count": 31,
   "metadata": {},
   "outputs": [
    {
     "name": "stdout",
     "output_type": "stream",
     "text": [
      "这是一张显示文本编辑器界面的图像。顶部有一排工具栏，包括以下图标：\n",
      "\n",
      "1. `</>` - 代码视图图标\n",
      "2. `B` - 加粗图标\n",
      "3. `I` - 斜体图标\n",
      "4. `S` - 删除线图标\n",
      "5. 铅笔图标 - 编辑图标\n",
      "6. 画笔图标 - 绘图工具图标\n",
      "7. `T` - 大写字体图标\n",
      "8. 链接图标 - 插入链接图标\n",
      "\n",
      "在工具栏下方的编辑区域，有一行蓝色字体的中文文字：“请戳这里”。\n",
      "这是一张截屏图像，显示了一个文本编辑器的界面。该界面的上方有一排工具栏，包含了各种文本格式化工具。具体工具从左到右依次是：\n",
      "\n",
      "1. 代码插入工具（显示为一个尖括号符号）\n",
      "2. 粗体（B）\n",
      "3. 斜体（I）\n",
      "4. 下划线（U）\n",
      "5. 删除线（S）\n",
      "6. 链接插入工具（一个链条符号）\n",
      "7. 笔刷工具（用于清除格式）\n",
      "8. 调色板工具（用于更改文本颜色）\n",
      "9. 段落对齐工具（用于调整文本对齐方式）\n",
      "10. 列表工具（用于创建有序或无序列表）\n",
      "\n",
      "在文本编辑区中，有一行蓝色的文字，内容是“请戳这里”。\n",
      "该图像显示了一个文本编辑器的界面，类似于电子邮件或网页内容管理系统中的编辑器。上方有一排工具栏，包含各种文本编辑工具，从左到右依次为：\n",
      "\n",
      "1. HTML代码编辑按钮（图标是一个尖括号）\n",
      "2. 粗体按钮（B）\n",
      "3. 斜体按钮（I）\n",
      "4. 删除线按钮（S）\n",
      "5. 链接按钮（图标像一个链条）\n",
      "6. 取消链接按钮（图标像一个断开的链条）\n",
      "7. 插入或编辑图片按钮（图标是一个山的图案）\n",
      "8. 插入或编辑视频按钮（图标是一个视频摄像机）\n",
      "9. 插入或编辑表格按钮（图标是一个表格）\n",
      "10. 有序列表按钮（图标是一个带数字的列表）\n",
      "11. 无序列表按钮（图标是一个带点的列表）\n",
      "\n",
      "在工具栏下方的编辑区域里，有一行蓝色的中文文字，写着“请戳这里”。\n",
      "\u001b[1mConcurrent executed in 10.88 seconds.\u001b[0m\n"
     ]
    }
   ],
   "source": [
    "async def analyze_image_concurrently(image_path, prompt):\n",
    "    base64_image = encode_image(image_path)\n",
    "    message = HumanMessage(\n",
    "        content=[\n",
    "            {\"type\": \"text\", \"text\": prompt},\n",
    "            {\n",
    "                \"type\": \"image_url\",\n",
    "                \"image_url\": {\"url\": f\"data:image/png;base64,{base64_image}\"}\n",
    "            }\n",
    "        ]\n",
    "    )\n",
    "    output = await llm.ainvoke([message])\n",
    "    print(output.content)\n",
    "\n",
    "async def image_tasks():\n",
    "    tasks = [analyze_image_concurrently(image_path, prompt) for _ in range(3)]\n",
    "    await asyncio.gather(*tasks) \n",
    "       \n",
    "async def main():\n",
    "    s = time.perf_counter()\n",
    "    await image_tasks()\n",
    "    elapsed = time.perf_counter() - s\n",
    "    print(\"\\033[1m\" + f\"Concurrent executed in {elapsed:0.2f} seconds.\" + \"\\033[0m\")\n",
    "\n",
    "await main() # 在.py文件中，改为asyncio.run(main())"
   ]
  },
  {
   "cell_type": "markdown",
   "metadata": {},
   "source": [
    "串行"
   ]
  },
  {
   "cell_type": "code",
   "execution_count": 29,
   "metadata": {},
   "outputs": [
    {
     "name": "stdout",
     "output_type": "stream",
     "text": [
      "这是一张显示文本编辑器界面的截图。编辑器的工具栏位于顶部，其中包含以下功能按钮，从左到右依次是：\n",
      "\n",
      "1. 代码（<>）按钮\n",
      "2. 加粗（B）按钮\n",
      "3. 斜体（I）按钮\n",
      "4. 划线（S）按钮\n",
      "5. 下划线（U）按钮\n",
      "6. 字体颜色（铅笔图标）按钮\n",
      "7. 背景颜色（画笔图标）按钮\n",
      "8. 字体大小（Tt）按钮\n",
      "9. 链接（链条图标）按钮\n",
      "\n",
      "工具栏下面是一个文本输入区域，里面有一行蓝色的文字，内容是“请戳这里”。\n",
      "这是一张显示文本编辑器界面的图片。界面上方有一排工具栏，包括多种文本编辑工具，从左到右依次为：\n",
      "\n",
      "1. 代码查看按钮（显示为 `<>` 符号）\n",
      "2. 加粗按钮（显示为字母B）\n",
      "3. 斜体按钮（显示为字母I）\n",
      "4. 下划线按钮（显示为字母U）\n",
      "5. 删除线按钮（显示为字母S和一条横线）\n",
      "6. 链接按钮（显示为一个链条的图标）\n",
      "7. 橡皮擦按钮（用于清除格式）\n",
      "8. 调整文本颜色和背景色的按钮（显示为铅笔和画笔的图标）\n",
      "9. 字体大小调整按钮（显示为字母T和一个小三角形）\n",
      "10. 列表按钮（显示为三条横线和小圆点，表示项目符号列表）\n",
      "\n",
      "在文本编辑区域内有一行蓝色文字，内容为“请戳这里”。\n",
      "这是一张截图，显示了一个文本编辑器的界面。界面顶部有一行工具栏，包含了一些常见的文本编辑选项，从左到右依次是：\n",
      "\n",
      "1. 代码按钮：用于插入代码片段。\n",
      "2. 粗体按钮：用于将选中的文本设置为粗体。\n",
      "3. 斜体按钮：用于将选中的文本设置为斜体。\n",
      "4. 下划线按钮：用于为选中的文本添加下划线。\n",
      "5. 删除线按钮：用于在选中的文本上添加删除线。\n",
      "6. 铅笔按钮：用于编辑文本。\n",
      "7. 铅笔图标旁的按钮：可能是用于更改文本颜色或背景颜色的工具。\n",
      "8. 字体按钮：用于更改文本的字体。\n",
      "9. 无序列表按钮：用于创建无序列表。\n",
      "10. 有序列表按钮：用于创建有序列表。\n",
      "11. 引用按钮：用于插入引用文本。\n",
      "12. 链接按钮：用于插入超链接。\n",
      "\n",
      "在工具栏下方的编辑区域中，有一行文字，内容为“请戳这里”，文字为蓝色，可能是一个超链接。\n",
      "\u001b[1mSerial executed in 33.28 seconds.\u001b[0m\n"
     ]
    }
   ],
   "source": [
    "def analyze_image_serially(image_path, prompt):\n",
    "    base64_image = encode_image(image_path)\n",
    "    message = HumanMessage(\n",
    "        content=[\n",
    "            {\"type\": \"text\", \"text\": prompt},\n",
    "            {\n",
    "                \"type\": \"image_url\",\n",
    "                \"image_url\": {\"url\": f\"data:image/png;base64,{base64_image}\"}\n",
    "            }\n",
    "        ]\n",
    "    )\n",
    "    return (llm.invoke([message]))\n",
    "\n",
    "s = time.perf_counter()\n",
    "for _ in range(3):\n",
    "    response = analyze_image_serially(image_path, prompt)\n",
    "    print(response.content)\n",
    "elapsed = time.perf_counter() - s\n",
    "print(\"\\033[1m\" + f\"Serial executed in {elapsed:0.2f} seconds.\" + \"\\033[0m\")\n",
    "    "
   ]
  }
 ],
 "metadata": {
  "kernelspec": {
   "display_name": "venv",
   "language": "python",
   "name": "python3"
  },
  "language_info": {
   "codemirror_mode": {
    "name": "ipython",
    "version": 3
   },
   "file_extension": ".py",
   "mimetype": "text/x-python",
   "name": "python",
   "nbconvert_exporter": "python",
   "pygments_lexer": "ipython3",
   "version": "3.11.9"
  }
 },
 "nbformat": 4,
 "nbformat_minor": 2
}
